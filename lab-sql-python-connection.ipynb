{
 "cells": [
  {
   "cell_type": "code",
   "execution_count": 2,
   "metadata": {},
   "outputs": [
    {
     "name": "stdout",
     "output_type": "stream",
     "text": [
      "   customer_id  rentals_5_2005\n",
      "0            1               2\n",
      "1            2               1\n",
      "2            3               2\n",
      "3            5               3\n",
      "4            6               3\n"
     ]
    }
   ],
   "source": [
    "import pandas as pd\n",
    "from sqlalchemy import create_engine\n",
    "\n",
    "# Establish a connection to the Sakila database\n",
    "def connect_to_database():\n",
    "    # Replace 'username' and 'password' with your actual database credentials\n",
    "    engine = create_engine(\"mysql+pymysql://root:4p;H;01:3~'n@localhost/sakila\")\n",
    "    return engine\n",
    "\n",
    "# Function to retrieve rental data for a given month and year\n",
    "def rentals_month(engine, month, year):\n",
    "    # SQL query to retrieve rental data for the specified month and year\n",
    "    query = f\"\"\"\n",
    "            SELECT \n",
    "                customer_id,\n",
    "                COUNT(rental_id) AS rentals_{month}_{year}\n",
    "            FROM \n",
    "                rental\n",
    "            WHERE \n",
    "                MONTH(rental_date) = {month} AND \n",
    "                YEAR(rental_date) = {year}\n",
    "            GROUP BY \n",
    "                customer_id\n",
    "            \"\"\"\n",
    "    # Execute the query and fetch the results as a Pandas DataFrame\n",
    "    with engine.connect() as conn:\n",
    "        rental_data = pd.read_sql_query(query, conn)\n",
    "    return rental_data\n",
    "\n",
    "# Test the function\n",
    "engine = connect_to_database()\n",
    "rental_data_may = rentals_month(engine, 5, 2005)\n",
    "print(rental_data_may.head())\n"
   ]
  }
 ],
 "metadata": {
  "kernelspec": {
   "display_name": "base",
   "language": "python",
   "name": "python3"
  },
  "language_info": {
   "codemirror_mode": {
    "name": "ipython",
    "version": 3
   },
   "file_extension": ".py",
   "mimetype": "text/x-python",
   "name": "python",
   "nbconvert_exporter": "python",
   "pygments_lexer": "ipython3",
   "version": "3.11.5"
  }
 },
 "nbformat": 4,
 "nbformat_minor": 2
}
