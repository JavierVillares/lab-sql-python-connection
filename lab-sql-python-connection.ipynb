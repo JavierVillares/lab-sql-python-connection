{
 "cells": [
  {
   "cell_type": "code",
   "execution_count": 7,
   "metadata": {},
   "outputs": [],
   "source": [
    "import pandas as pd\n",
    "from sqlalchemy import create_engine\n",
    "\n",
    "def establish_connection():\n",
    "    # Establish a connection to the Sakila database\n",
    "    engine = create_engine(\"mysql+pymysql://root:4p;H;01:3~'n@localhost/sakila\")\n",
    "    return engine\n",
    "\n",
    "def rentals_month(engine, month, year):\n",
    "    # Execute SQL query to retrieve rental data for the specified month and year\n",
    "    query = f\"\"\"\n",
    "            SELECT \n",
    "                customer_id,\n",
    "                COUNT(rental_id) AS rentals_{month}_{year}\n",
    "            FROM \n",
    "                rental\n",
    "            WHERE \n",
    "                MONTH(rental_date) = {month} AND \n",
    "                YEAR(rental_date) = {year}\n",
    "            GROUP BY \n",
    "                customer_id\n",
    "            \"\"\"\n",
    "    # Fetch the results as a Pandas DataFrame\n",
    "    with engine.connect() as conn:\n",
    "        rental_data = pd.read_sql_query(query, conn)\n",
    "    return rental_data\n",
    "\n",
    "def rental_count_month(rental_data, month, year):\n",
    "    # Rename the rentals column to match the month and year\n",
    "    rental_data.rename(columns={'rental_count': f'rentals_{month}_{year}'}, inplace=True)\n",
    "    return rental_data\n",
    "\n",
    "def compare_rentals(rental_data_month1, rental_data_month2, month1, year1, month2, year2):\n",
    "    # Merge the two DataFrames based on customer_id\n",
    "    combined_rentals = pd.merge(rental_data_month1, rental_data_month2, on='customer_id', how='outer')\n",
    "    # Calculate the difference between rentals for the two months\n",
    "    combined_rentals['difference'] = combined_rentals[f'rentals_{month1}_{year1}'] - combined_rentals[f'rentals_{month2}_{year2}']\n",
    "    return combined_rentals\n"
   ]
  }
 ],
 "metadata": {
  "kernelspec": {
   "display_name": "base",
   "language": "python",
   "name": "python3"
  },
  "language_info": {
   "codemirror_mode": {
    "name": "ipython",
    "version": 3
   },
   "file_extension": ".py",
   "mimetype": "text/x-python",
   "name": "python",
   "nbconvert_exporter": "python",
   "pygments_lexer": "ipython3",
   "version": "3.11.5"
  }
 },
 "nbformat": 4,
 "nbformat_minor": 2
}
